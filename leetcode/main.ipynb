{
 "cells": [
  {
   "cell_type": "code",
   "execution_count": null,
   "id": "fa627993",
   "metadata": {},
   "outputs": [],
   "source": [
    "'''\n",
    "in this file we are going to practice and learn data structure using the python\n",
    "\n",
    "in python major data strucutre are as follows : \n",
    "1.list\n",
    "2.tuple\n",
    "3.set\n",
    "4.dictionaries\n",
    "'''"
   ]
  },
  {
   "cell_type": "code",
   "execution_count": null,
   "id": "b0521c86",
   "metadata": {},
   "outputs": [],
   "source": [
    "# list\n",
    "\n",
    "# creating list\n",
    "l1=[1,2,3,4,5]\n",
    "\n",
    "# printing list\n",
    "print(l1)\n",
    "\n",
    "# "
   ]
  },
  {
   "cell_type": "code",
   "execution_count": null,
   "id": "b772080e",
   "metadata": {},
   "outputs": [],
   "source": [
    "# create list in python\n",
    "lst1=[10,20,30,40,50,60]\n",
    "print(lst1)"
   ]
  },
  {
   "cell_type": "code",
   "execution_count": null,
   "id": "18a4765f",
   "metadata": {},
   "outputs": [],
   "source": [
    "# create list of differ data types\n",
    "numlist=[10,20,30,40,50]\n",
    "\n",
    "stringlist=[\"Manan\",\"Bella\",\"didi\",\"phyllis\"]\n",
    "\n",
    "perlist=[98.9, 98.23, 89.99, 80,69]\n",
    "\n",
    "print(numlist)\n",
    "print(stringlist)\n",
    "print(perlist)"
   ]
  },
  {
   "cell_type": "code",
   "execution_count": null,
   "id": "500be236",
   "metadata": {},
   "outputs": [],
   "source": [
    "# access specific element from list\n",
    "print(numlist[2])\n",
    "\n",
    "print(stringlist[3])\n",
    "\n",
    "print(perlist[1])"
   ]
  },
  {
   "cell_type": "code",
   "execution_count": null,
   "id": "0438e6e7",
   "metadata": {},
   "outputs": [],
   "source": [
    "# to check whether a element exist or not\n",
    "for a in perlist:\n",
    "    if a==89.99:\n",
    "        print(\"True\")"
   ]
  },
  {
   "cell_type": "code",
   "execution_count": null,
   "id": "8875d716",
   "metadata": {},
   "outputs": [],
   "source": [
    "# to update a value in list\n",
    "perlist[0]=100.00\n",
    "\n",
    "print(perlist)"
   ]
  },
  {
   "cell_type": "code",
   "execution_count": null,
   "id": "53e2ca55",
   "metadata": {},
   "outputs": [],
   "source": [
    "# remove element from list\n",
    "perlist.remove(89.99)\n",
    "print(perlist)"
   ]
  },
  {
   "cell_type": "code",
   "execution_count": null,
   "id": "d90aa857",
   "metadata": {},
   "outputs": [],
   "source": [
    "# remove specific element from list\n",
    "poped_ele=perlist.pop(2)\n",
    "print(perlist)"
   ]
  },
  {
   "cell_type": "code",
   "execution_count": null,
   "id": "73556aa0",
   "metadata": {},
   "outputs": [],
   "source": [
    "# remove all element from list\n",
    "perlist.clear()\n",
    "\n",
    "print(perlist)\n",
    "\n",
    "if perlist:\n",
    "    print(\"it's empty\")"
   ]
  },
  {
   "cell_type": "code",
   "execution_count": null,
   "id": "7e0e0e85",
   "metadata": {},
   "outputs": [],
   "source": [
    "# merging two list \n",
    "l1=[1,2,3]\n",
    "l2=[4,5]\n",
    "\n",
    "l1=l1+l2\n",
    "print(l1)"
   ]
  },
  {
   "cell_type": "code",
   "execution_count": null,
   "id": "dce0441e",
   "metadata": {},
   "outputs": [],
   "source": [
    "# iterate through element or list\n",
    "for a in stringlist:\n",
    "    print(f\"{a}\")"
   ]
  },
  {
   "cell_type": "code",
   "execution_count": null,
   "id": "bfd88bb5",
   "metadata": {},
   "outputs": [],
   "source": [
    "# adding element in the list\n",
    "\n",
    "stringlist.append(\"Pam\")\n",
    "print(stringlist)"
   ]
  },
  {
   "cell_type": "code",
   "execution_count": null,
   "id": "8d8a1f42",
   "metadata": {},
   "outputs": [],
   "source": [
    "# reverse the list\n",
    "perlist=[98.9, 98.23, 89.99, 80,69]\n",
    "perlist.reverse()\n",
    "print(perlist)"
   ]
  },
  {
   "cell_type": "code",
   "execution_count": null,
   "id": "b754d15a",
   "metadata": {},
   "outputs": [],
   "source": [
    "# list sliciing\n",
    "\n",
    "nums=[10,20,30,40,50]\n",
    "\n",
    "ind_to_rem=3\n",
    "nums=nums[:ind_to_rem]+nums[ind_to_rem+1:]\n",
    "print(nums)"
   ]
  },
  {
   "cell_type": "code",
   "execution_count": null,
   "id": "56b24b47",
   "metadata": {},
   "outputs": [],
   "source": [
    "# re-assign a list\n",
    "\n",
    "n1=[1,2,3,4]\n",
    "print(n1)\n",
    "print(\"After removing element\")\n",
    "n1=[]\n",
    "print(n1)"
   ]
  },
  {
   "cell_type": "code",
   "execution_count": null,
   "id": "a8aa7973",
   "metadata": {},
   "outputs": [],
   "source": [
    "# to add multiple element at once\n",
    "n1.extend([100,200,300,400,500])\n",
    "print(n1)\n",
    "# adding more in same list\n",
    "n1.extend([1000,2000,3000,4000,5000])\n",
    "print(n1)"
   ]
  },
  {
   "cell_type": "code",
   "execution_count": null,
   "id": "5e983218",
   "metadata": {},
   "outputs": [],
   "source": [
    "# to add element at specific index\n",
    "n1.insert(4,60000)\n",
    "print(n1)"
   ]
  },
  {
   "cell_type": "code",
   "execution_count": null,
   "id": "ca23131b",
   "metadata": {},
   "outputs": [],
   "source": [
    "# to remove first occurence of element\n",
    "n1.remove(60000)\n",
    "print(n1)\n",
    "\n",
    "\n",
    "# to return index of first occurence\n",
    "print(n1.index(60000))\n"
   ]
  },
  {
   "cell_type": "code",
   "execution_count": null,
   "id": "eb33ed02",
   "metadata": {},
   "outputs": [],
   "source": [
    "# to sort list in ascending order\n",
    "names=[\"car\",\"truck\",\"bus\",\"monster-truck\",\"plane\"]\n",
    "names.sort()\n",
    "print(names)\n",
    "\n",
    "\n",
    "# to sort list in descending order\n",
    "names.sort(reverse=True)\n",
    "print(names)\n"
   ]
  },
  {
   "cell_type": "code",
   "execution_count": null,
   "id": "3dea7f7d",
   "metadata": {},
   "outputs": [],
   "source": [
    "# to complete reverse list\n",
    "names.reverse()\n",
    "print(names)"
   ]
  },
  {
   "cell_type": "code",
   "execution_count": null,
   "id": "73d9c5a6",
   "metadata": {},
   "outputs": [],
   "source": [
    "# to copy a list \n",
    "new_names=names.copy()\n",
    "print(new_names)"
   ]
  },
  {
   "cell_type": "code",
   "execution_count": null,
   "id": "8a3007b0",
   "metadata": {},
   "outputs": [],
   "source": [
    "# some numberical based list function\n",
    "\n",
    "numbers=[10,20,30,40,50]\n",
    "\n",
    "print(len(numbers))\n",
    "print(max(numbers))\n",
    "print(min(numbers))\n",
    "print(sum(numbers))"
   ]
  },
  {
   "cell_type": "code",
   "execution_count": 44,
   "id": "519d83af",
   "metadata": {},
   "outputs": [
    {
     "name": "stdout",
     "output_type": "stream",
     "text": [
      "6\n",
      "[100, 150, 50, 250, 300, 350, 400]\n"
     ]
    }
   ],
   "source": [
    "''' \n",
    "question 1 : \n",
    "create list and do following operation\n",
    "append a new element\n",
    "remove a element from any index\n",
    "insert a new element at mid-index of list\n",
    "print the list\n",
    "'''\n",
    "\n",
    "q1=[100,150,200,250,300,350]\n",
    "\n",
    "q1.append(400)\n",
    "\n",
    "q1.pop(2)\n",
    "\n",
    "print(len(q1))\n",
    "\n",
    "q1.insert(2,50)\n",
    "\n",
    "print(q1)"
   ]
  },
  {
   "cell_type": "code",
   "execution_count": 45,
   "id": "a92dd54c",
   "metadata": {},
   "outputs": [],
   "source": [
    "''' \n",
    "Create a list of fruits and:\n",
    " Find the index of \"mango\".\n",
    " Count how many times \"apple\" appears.\n",
    " Reverse the list.\n",
    "'''\n",
    "\n",
    "fruits=[\"mango\",\"apple\",\"banan\",\"pineapple\",\"cherry\",\"apple\",\"apple\"]\n",
    "\n",
    "for a in fruits:\n",
    " if fruits==\"mango\":\n",
    "    print(fruits[a]==\"mango\")"
   ]
  }
 ],
 "metadata": {
  "kernelspec": {
   "display_name": "Python 3",
   "language": "python",
   "name": "python3"
  },
  "language_info": {
   "codemirror_mode": {
    "name": "ipython",
    "version": 3
   },
   "file_extension": ".py",
   "mimetype": "text/x-python",
   "name": "python",
   "nbconvert_exporter": "python",
   "pygments_lexer": "ipython3",
   "version": "3.12.10"
  }
 },
 "nbformat": 4,
 "nbformat_minor": 5
}
