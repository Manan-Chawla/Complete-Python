{
 "cells": [
  {
   "cell_type": "code",
   "execution_count": 1,
   "id": "3a88b2e0",
   "metadata": {},
   "outputs": [
    {
     "name": "stdout",
     "output_type": "stream",
     "text": [
      "4\n"
     ]
    }
   ],
   "source": [
    "# creating a list\n",
    "lst=[1,2,3,4,5]\n",
    "\n",
    "# accessing a list by element or index\n",
    "print(lst[3])"
   ]
  },
  {
   "cell_type": "code",
   "execution_count": 2,
   "id": "47ad4de6",
   "metadata": {},
   "outputs": [
    {
     "name": "stdout",
     "output_type": "stream",
     "text": [
      "[1, 2, 3, 4, 5, 10]\n"
     ]
    }
   ],
   "source": [
    "# adding new element in list\n",
    "lst.append(10)\n",
    "\n",
    "print(lst)"
   ]
  }
 ],
 "metadata": {
  "kernelspec": {
   "display_name": "Python 3",
   "language": "python",
   "name": "python3"
  },
  "language_info": {
   "codemirror_mode": {
    "name": "ipython",
    "version": 3
   },
   "file_extension": ".py",
   "mimetype": "text/x-python",
   "name": "python",
   "nbconvert_exporter": "python",
   "pygments_lexer": "ipython3",
   "version": "3.12.10"
  }
 },
 "nbformat": 4,
 "nbformat_minor": 5
}
